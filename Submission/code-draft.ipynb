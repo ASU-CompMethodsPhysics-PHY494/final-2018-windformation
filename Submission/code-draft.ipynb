{
 "cells": [
  {
   "cell_type": "code",
   "execution_count": 136,
   "metadata": {
    "collapsed": true
   },
   "outputs": [],
   "source": [
    "import numpy as np\n",
    "import pandas as pd\n",
    "import matplotlib.pyplot as plt\n",
    "from mpl_toolkits.mplot3d import Axes3D\n",
    "%matplotlib inline"
   ]
  },
  {
   "cell_type": "code",
   "execution_count": 118,
   "metadata": {
    "collapsed": true
   },
   "outputs": [],
   "source": [
    "xmax = 5 #max x values in m\n",
    "ymax = 5 #max y values in m\n",
    "zmax = 5 #max z values in m\n",
    "h = 1 #amount of space each point represents in m**3"
   ]
  },
  {
   "cell_type": "code",
   "execution_count": 119,
   "metadata": {
    "collapsed": true
   },
   "outputs": [],
   "source": [
    "space = np.zeros((xmax, ymax, zmax))"
   ]
  },
  {
   "cell_type": "code",
   "execution_count": 120,
   "metadata": {
    "collapsed": true
   },
   "outputs": [],
   "source": [
    "dens = space"
   ]
  },
  {
   "cell_type": "code",
   "execution_count": 121,
   "metadata": {
    "collapsed": true
   },
   "outputs": [],
   "source": [
    "moisture = space"
   ]
  },
  {
   "cell_type": "code",
   "execution_count": 122,
   "metadata": {
    "collapsed": true
   },
   "outputs": [],
   "source": [
    "pressure = space"
   ]
  },
  {
   "cell_type": "code",
   "execution_count": 123,
   "metadata": {
    "collapsed": true
   },
   "outputs": [],
   "source": [
    "temp = space"
   ]
  },
  {
   "cell_type": "code",
   "execution_count": 124,
   "metadata": {
    "collapsed": true
   },
   "outputs": [],
   "source": [
    "vel = space"
   ]
  },
  {
   "cell_type": "markdown",
   "metadata": {},
   "source": [
    "# Wind"
   ]
  },
  {
   "cell_type": "code",
   "execution_count": 174,
   "metadata": {
    "collapsed": true
   },
   "outputs": [],
   "source": [
    "def sun_e(space, eavg='1.08e7', edist=np.random.normal(), estd=1):\n",
    "    '''\n",
    "    :Arguments:\n",
    "        *space*\n",
    "            numpy.array 3-D array of zeros\n",
    "        *eavg*\n",
    "            int average value of energy from sun in J/m**2/day;\n",
    "            default = 1.08e7 (average over Chicago)\n",
    "        *edist*\n",
    "            func distribution type for e sampling\n",
    "        *estd*\n",
    "            int standard deviation of energy from sun from eavg;\n",
    "            default = 1\n",
    "    :Returns:\n",
    "        *energies*\n",
    "            numpy.array values of energy from sun in J/m**2/day using\n",
    "            edist with mean eavg\n",
    "    '''\n",
    "    for i in range(np.array(space.shape)[0]):\n",
    "        for j in range(np.array(space.shape)[1]):\n",
    "            e = edist(loc=eavg, scale=estd)\n",
    "            energies[i, j, -1] = e\n",
    "\n",
    "    return energies"
   ]
  },
  {
   "cell_type": "code",
   "execution_count": null,
   "metadata": {
    "collapsed": true
   },
   "outputs": [],
   "source": []
  },
  {
   "cell_type": "markdown",
   "metadata": {},
   "source": [
    "# Cloud"
   ]
  },
  {
   "cell_type": "code",
   "execution_count": 175,
   "metadata": {
    "collapsed": true
   },
   "outputs": [],
   "source": [
    "def cloud(space, loc=(10,10,10), size=(10,1,1), hcloud=1, hmed=.95, hair=.69):\n",
    "    '''\n",
    "    :Arguments:\n",
    "        *space*\n",
    "            numpy.array 3-D array of zeros\n",
    "        *loc*\n",
    "            tuple location of center of cloud;\n",
    "            default = (10,10,10)\n",
    "        *size*\n",
    "            tuple size of cloud;\n",
    "            default = (10,1,1)\n",
    "        *hcloud*\n",
    "            int humidity of cloud;\n",
    "            default = 1\n",
    "        *hair*\n",
    "            int humidity of air;\n",
    "            default = 0\n",
    "    :Returns:\n",
    "        *humidities*\n",
    "            numpy.array values of humidity\n",
    "    '''\n",
    "    assert all([i >= 0 for i in np.array(loc)-np.array(size)/2]) and \\\n",
    "    all([i >= 0 for i in np.array(space.shape)-np.array(loc)+np.array(size)/2]), \\\n",
    "    'Cloud must be within space.'\n",
    "\n",
    "    humidities = space\n",
    "\n",
    "    humidities[:][:][:] = hair\n",
    "\n",
    "    n = np.array(size) % 2\n",
    "\n",
    "    i = np.array(loc)[0]\n",
    "    j = np.array(loc)[1]\n",
    "    k = np.array(loc)[2]\n",
    "\n",
    "    a0 = int(i-np.array(size)[0]/2)\n",
    "    a1 = int(i+np.array(size)[0]/2) + n[0]\n",
    "    b0 = int(j-np.array(size)[1]/2)\n",
    "    b1 = int(j+np.array(size)[1]/2) + n[1]\n",
    "    c0 = int(k-np.array(size)[2]/2)\n",
    "    c1 = int(k+np.array(size)[2]/2) + n[2]\n",
    "\n",
    "    humidities[a0-1:a1+1, b0-1:b1+1, c0-1:c1+1] = hmed\n",
    "    humidities[a0:a1, b0:b1, c0:c1] = hcloud\n",
    "\n",
    "    return humidities"
   ]
  },
  {
   "cell_type": "code",
   "execution_count": 176,
   "metadata": {
    "scrolled": true
   },
   "outputs": [
    {
     "ename": "AssertionError",
     "evalue": "Cloud must be within space.",
     "output_type": "error",
     "traceback": [
      "\u001b[0;31m---------------------------------------------------------------------------\u001b[0m",
      "\u001b[0;31mAssertionError\u001b[0m                            Traceback (most recent call last)",
      "\u001b[0;32m<ipython-input-176-76117bab0fa2>\u001b[0m in \u001b[0;36m<module>\u001b[0;34m()\u001b[0m\n\u001b[0;32m----> 1\u001b[0;31m \u001b[0mhumidities\u001b[0m \u001b[0;34m=\u001b[0m \u001b[0mcloud\u001b[0m\u001b[0;34m(\u001b[0m\u001b[0mspace\u001b[0m\u001b[0;34m)\u001b[0m\u001b[0;34m\u001b[0m\u001b[0m\n\u001b[0m",
      "\u001b[0;32m<ipython-input-175-fb3452691bda>\u001b[0m in \u001b[0;36mcloud\u001b[0;34m(space, loc, size, hcloud, hmed, hair)\u001b[0m\n\u001b[1;32m     20\u001b[0m             \u001b[0mnumpy\u001b[0m\u001b[0;34m.\u001b[0m\u001b[0marray\u001b[0m \u001b[0mvalues\u001b[0m \u001b[0mof\u001b[0m \u001b[0mhumidity\u001b[0m\u001b[0;34m\u001b[0m\u001b[0m\n\u001b[1;32m     21\u001b[0m     '''\n\u001b[0;32m---> 22\u001b[0;31m     \u001b[0;32massert\u001b[0m \u001b[0mall\u001b[0m\u001b[0;34m(\u001b[0m\u001b[0;34m[\u001b[0m\u001b[0mi\u001b[0m \u001b[0;34m>=\u001b[0m \u001b[0;36m0\u001b[0m \u001b[0;32mfor\u001b[0m \u001b[0mi\u001b[0m \u001b[0;32min\u001b[0m \u001b[0mnp\u001b[0m\u001b[0;34m.\u001b[0m\u001b[0marray\u001b[0m\u001b[0;34m(\u001b[0m\u001b[0mloc\u001b[0m\u001b[0;34m)\u001b[0m\u001b[0;34m-\u001b[0m\u001b[0mnp\u001b[0m\u001b[0;34m.\u001b[0m\u001b[0marray\u001b[0m\u001b[0;34m(\u001b[0m\u001b[0msize\u001b[0m\u001b[0;34m)\u001b[0m\u001b[0;34m/\u001b[0m\u001b[0;36m2\u001b[0m\u001b[0;34m]\u001b[0m\u001b[0;34m)\u001b[0m \u001b[0;32mand\u001b[0m     \u001b[0mall\u001b[0m\u001b[0;34m(\u001b[0m\u001b[0;34m[\u001b[0m\u001b[0mi\u001b[0m \u001b[0;34m>=\u001b[0m \u001b[0;36m0\u001b[0m \u001b[0;32mfor\u001b[0m \u001b[0mi\u001b[0m \u001b[0;32min\u001b[0m \u001b[0mnp\u001b[0m\u001b[0;34m.\u001b[0m\u001b[0marray\u001b[0m\u001b[0;34m(\u001b[0m\u001b[0mspace\u001b[0m\u001b[0;34m.\u001b[0m\u001b[0mshape\u001b[0m\u001b[0;34m)\u001b[0m\u001b[0;34m-\u001b[0m\u001b[0mnp\u001b[0m\u001b[0;34m.\u001b[0m\u001b[0marray\u001b[0m\u001b[0;34m(\u001b[0m\u001b[0mloc\u001b[0m\u001b[0;34m)\u001b[0m\u001b[0;34m+\u001b[0m\u001b[0mnp\u001b[0m\u001b[0;34m.\u001b[0m\u001b[0marray\u001b[0m\u001b[0;34m(\u001b[0m\u001b[0msize\u001b[0m\u001b[0;34m)\u001b[0m\u001b[0;34m/\u001b[0m\u001b[0;36m2\u001b[0m\u001b[0;34m]\u001b[0m\u001b[0;34m)\u001b[0m\u001b[0;34m,\u001b[0m     \u001b[0;34m'Cloud must be within space.'\u001b[0m\u001b[0;34m\u001b[0m\u001b[0m\n\u001b[0m\u001b[1;32m     23\u001b[0m \u001b[0;34m\u001b[0m\u001b[0m\n\u001b[1;32m     24\u001b[0m     \u001b[0mhumidities\u001b[0m \u001b[0;34m=\u001b[0m \u001b[0mspace\u001b[0m\u001b[0;34m\u001b[0m\u001b[0m\n",
      "\u001b[0;31mAssertionError\u001b[0m: Cloud must be within space."
     ]
    }
   ],
   "source": [
    "humidities = cloud(space)"
   ]
  },
  {
   "cell_type": "code",
   "execution_count": 177,
   "metadata": {},
   "outputs": [
    {
     "data": {
      "text/plain": [
       "array([[[ 101325.        ,  101325.        ,  101325.        , ...,\n",
       "          101325.        ,  101325.        ,  101325.        ],\n",
       "        [ 101325.        ,  101325.        ,  101325.        , ...,\n",
       "          101325.        ,  101325.        ,  101325.        ],\n",
       "        [ 101325.        ,  101325.        ,  101325.        , ...,\n",
       "          101325.        ,  101325.        ,  101325.        ],\n",
       "        ..., \n",
       "        [ 101325.        ,  101325.        ,  101325.        , ...,\n",
       "          101325.        ,  101325.        ,  101325.        ],\n",
       "        [ 101325.        ,  101325.        ,  101325.        , ...,\n",
       "          101325.        ,  101325.        ,  101325.        ],\n",
       "        [ 101325.        ,  101325.        ,  101325.        , ...,\n",
       "          101325.        ,  101325.        ,  101325.        ]],\n",
       "\n",
       "       [[ 101312.8613842 ,  101312.8613842 ,  101312.8613842 , ...,\n",
       "          101312.8613842 ,  101312.8613842 ,  101312.8613842 ],\n",
       "        [ 101312.8613842 ,  101312.8613842 ,  101312.8613842 , ...,\n",
       "          101312.8613842 ,  101312.8613842 ,  101312.8613842 ],\n",
       "        [ 101312.8613842 ,  101312.8613842 ,  101312.8613842 , ...,\n",
       "          101312.8613842 ,  101312.8613842 ,  101312.8613842 ],\n",
       "        ..., \n",
       "        [ 101312.8613842 ,  101312.8613842 ,  101312.8613842 , ...,\n",
       "          101312.8613842 ,  101312.8613842 ,  101312.8613842 ],\n",
       "        [ 101312.8613842 ,  101312.8613842 ,  101312.8613842 , ...,\n",
       "          101312.8613842 ,  101312.8613842 ,  101312.8613842 ],\n",
       "        [ 101312.8613842 ,  101312.8613842 ,  101312.8613842 , ...,\n",
       "          101312.8613842 ,  101312.8613842 ,  101312.8613842 ]],\n",
       "\n",
       "       [[ 101300.7242226 ,  101300.7242226 ,  101300.7242226 , ...,\n",
       "          101300.7242226 ,  101300.7242226 ,  101300.7242226 ],\n",
       "        [ 101300.7242226 ,  101300.7242226 ,  101300.7242226 , ...,\n",
       "          101300.7242226 ,  101300.7242226 ,  101300.7242226 ],\n",
       "        [ 101300.7242226 ,  101300.7242226 ,  101300.7242226 , ...,\n",
       "          101300.7242226 ,  101300.7242226 ,  101300.7242226 ],\n",
       "        ..., \n",
       "        [ 101300.7242226 ,  101300.7242226 ,  101300.7242226 , ...,\n",
       "          101300.7242226 ,  101300.7242226 ,  101300.7242226 ],\n",
       "        [ 101300.7242226 ,  101300.7242226 ,  101300.7242226 , ...,\n",
       "          101300.7242226 ,  101300.7242226 ,  101300.7242226 ],\n",
       "        [ 101300.7242226 ,  101300.7242226 ,  101300.7242226 , ...,\n",
       "          101300.7242226 ,  101300.7242226 ,  101300.7242226 ]],\n",
       "\n",
       "       ..., \n",
       "       [[ 101118.84118315,  101118.84118315,  101118.84118315, ...,\n",
       "          101118.84118315,  101118.84118315,  101118.84118315],\n",
       "        [ 101118.84118315,  101118.84118315,  101118.84118315, ...,\n",
       "          101118.84118315,  101118.84118315,  101118.84118315],\n",
       "        [ 101118.84118315,  101118.84118315,  101118.84118315, ...,\n",
       "          101118.84118315,  101118.84118315,  101118.84118315],\n",
       "        ..., \n",
       "        [ 101118.84118315,  101118.84118315,  101118.84118315, ...,\n",
       "          101118.84118315,  101118.84118315,  101118.84118315],\n",
       "        [ 101118.84118315,  101118.84118315,  101118.84118315, ...,\n",
       "          101118.84118315,  101118.84118315,  101118.84118315],\n",
       "        [ 101118.84118315,  101118.84118315,  101118.84118315, ...,\n",
       "          101118.84118315,  101118.84118315,  101118.84118315]],\n",
       "\n",
       "       [[ 101106.72726494,  101106.72726494,  101106.72726494, ...,\n",
       "          101106.72726494,  101106.72726494,  101106.72726494],\n",
       "        [ 101106.72726494,  101106.72726494,  101106.72726494, ...,\n",
       "          101106.72726494,  101106.72726494,  101106.72726494],\n",
       "        [ 101106.72726494,  101106.72726494,  101106.72726494, ...,\n",
       "          101106.72726494,  101106.72726494,  101106.72726494],\n",
       "        ..., \n",
       "        [ 101106.72726494,  101106.72726494,  101106.72726494, ...,\n",
       "          101106.72726494,  101106.72726494,  101106.72726494],\n",
       "        [ 101106.72726494,  101106.72726494,  101106.72726494, ...,\n",
       "          101106.72726494,  101106.72726494,  101106.72726494],\n",
       "        [ 101106.72726494,  101106.72726494,  101106.72726494, ...,\n",
       "          101106.72726494,  101106.72726494,  101106.72726494]],\n",
       "\n",
       "       [[ 101094.61479796,  101094.61479796,  101094.61479796, ...,\n",
       "          101094.61479796,  101094.61479796,  101094.61479796],\n",
       "        [ 101094.61479796,  101094.61479796,  101094.61479796, ...,\n",
       "          101094.61479796,  101094.61479796,  101094.61479796],\n",
       "        [ 101094.61479796,  101094.61479796,  101094.61479796, ...,\n",
       "          101094.61479796,  101094.61479796,  101094.61479796],\n",
       "        ..., \n",
       "        [ 101094.61479796,  101094.61479796,  101094.61479796, ...,\n",
       "          101094.61479796,  101094.61479796,  101094.61479796],\n",
       "        [ 101094.61479796,  101094.61479796,  101094.61479796, ...,\n",
       "          101094.61479796,  101094.61479796,  101094.61479796],\n",
       "        [ 101094.61479796,  101094.61479796,  101094.61479796, ...,\n",
       "          101094.61479796,  101094.61479796,  101094.61479796]]])"
      ]
     },
     "execution_count": 177,
     "metadata": {},
     "output_type": "execute_result"
    }
   ],
   "source": [
    "humidities"
   ]
  },
  {
   "cell_type": "markdown",
   "metadata": {},
   "source": [
    "# Tornado"
   ]
  },
  {
   "cell_type": "code",
   "execution_count": 178,
   "metadata": {
    "collapsed": true
   },
   "outputs": [],
   "source": [
    "def tornado(space, loc=10, lpress=10, rpress=1):\n",
    "    '''\n",
    "    :Arguments:\n",
    "        *space*\n",
    "            numpy.array 3-D array of zeros\n",
    "        *loc*\n",
    "            int location of pressure difference;\n",
    "            default = 10\n",
    "\n",
    "    :Returns:\n",
    "        *pressures*\n",
    "            numpy.array values of pressure\n",
    "    '''\n",
    "    assert 0 < loc and loc < np.array(space.shape)[0], 'Pressure difference must be within space.'\n",
    "\n",
    "    pressures = altitude_pressures(space)\n",
    "\n",
    "    pressures[loc:, :, :] *= rpress\n",
    "\n",
    "    pressures[:loc, :, :] *= lpress\n",
    "\n",
    "    return pressures"
   ]
  },
  {
   "cell_type": "code",
   "execution_count": 179,
   "metadata": {},
   "outputs": [
    {
     "ename": "AssertionError",
     "evalue": "Pressure difference must be within space.",
     "output_type": "error",
     "traceback": [
      "\u001b[0;31m---------------------------------------------------------------------------\u001b[0m",
      "\u001b[0;31mAssertionError\u001b[0m                            Traceback (most recent call last)",
      "\u001b[0;32m<ipython-input-179-da5ef107ae42>\u001b[0m in \u001b[0;36m<module>\u001b[0;34m()\u001b[0m\n\u001b[0;32m----> 1\u001b[0;31m \u001b[0mtornado\u001b[0m\u001b[0;34m(\u001b[0m\u001b[0mspace\u001b[0m\u001b[0;34m)\u001b[0m\u001b[0;34m\u001b[0m\u001b[0m\n\u001b[0m",
      "\u001b[0;32m<ipython-input-178-5f1ff2512cea>\u001b[0m in \u001b[0;36mtornado\u001b[0;34m(space, loc, lpress, rpress)\u001b[0m\n\u001b[1;32m     12\u001b[0m             \u001b[0mnumpy\u001b[0m\u001b[0;34m.\u001b[0m\u001b[0marray\u001b[0m \u001b[0mvalues\u001b[0m \u001b[0mof\u001b[0m \u001b[0mpressure\u001b[0m\u001b[0;34m\u001b[0m\u001b[0m\n\u001b[1;32m     13\u001b[0m     '''\n\u001b[0;32m---> 14\u001b[0;31m     \u001b[0;32massert\u001b[0m \u001b[0;36m0\u001b[0m \u001b[0;34m<\u001b[0m \u001b[0mloc\u001b[0m \u001b[0;32mand\u001b[0m \u001b[0mloc\u001b[0m \u001b[0;34m<\u001b[0m \u001b[0mnp\u001b[0m\u001b[0;34m.\u001b[0m\u001b[0marray\u001b[0m\u001b[0;34m(\u001b[0m\u001b[0mspace\u001b[0m\u001b[0;34m.\u001b[0m\u001b[0mshape\u001b[0m\u001b[0;34m)\u001b[0m\u001b[0;34m[\u001b[0m\u001b[0;36m0\u001b[0m\u001b[0;34m]\u001b[0m\u001b[0;34m,\u001b[0m \u001b[0;34m'Pressure difference must be within space.'\u001b[0m\u001b[0;34m\u001b[0m\u001b[0m\n\u001b[0m\u001b[1;32m     15\u001b[0m \u001b[0;34m\u001b[0m\u001b[0m\n\u001b[1;32m     16\u001b[0m     \u001b[0mpressures\u001b[0m \u001b[0;34m=\u001b[0m \u001b[0maltitude_pressures\u001b[0m\u001b[0;34m(\u001b[0m\u001b[0mspace\u001b[0m\u001b[0;34m)\u001b[0m\u001b[0;34m\u001b[0m\u001b[0m\n",
      "\u001b[0;31mAssertionError\u001b[0m: Pressure difference must be within space."
     ]
    }
   ],
   "source": [
    "tornado(space)"
   ]
  },
  {
   "cell_type": "code",
   "execution_count": null,
   "metadata": {
    "collapsed": true
   },
   "outputs": [],
   "source": []
  },
  {
   "cell_type": "code",
   "execution_count": null,
   "metadata": {
    "collapsed": true
   },
   "outputs": [],
   "source": []
  },
  {
   "cell_type": "markdown",
   "metadata": {},
   "source": [
    "# Algorithm"
   ]
  },
  {
   "cell_type": "code",
   "execution_count": 180,
   "metadata": {
    "collapsed": true
   },
   "outputs": [],
   "source": [
    "def energytopressure(energies, dv):\n",
    "    ps = energies/dV\n",
    "    return ps"
   ]
  },
  {
   "cell_type": "code",
   "execution_count": 181,
   "metadata": {
    "collapsed": true
   },
   "outputs": [],
   "source": [
    "def altitude_pressures(space):\n",
    "    pressures = space\n",
    "    for h in range(np.array(space.shape)[2]):\n",
    "        p = 101325*np.e**(-0.000119806*h)\n",
    "        pressures[:, :, h] = p\n",
    "    return pressures"
   ]
  },
  {
   "cell_type": "code",
   "execution_count": 182,
   "metadata": {},
   "outputs": [
    {
     "ename": "SyntaxError",
     "evalue": "invalid syntax (<ipython-input-182-db842df3cb8d>, line 9)",
     "output_type": "error",
     "traceback": [
      "\u001b[0;36m  File \u001b[0;32m\"<ipython-input-182-db842df3cb8d>\"\u001b[0;36m, line \u001b[0;32m9\u001b[0m\n\u001b[0;31m    gradphi =\u001b[0m\n\u001b[0m              ^\u001b[0m\n\u001b[0;31mSyntaxError\u001b[0m\u001b[0;31m:\u001b[0m invalid syntax\n"
     ]
    }
   ],
   "source": [
    "def calc_pchange(pressures, dt, T=329,M1=29,M2=29):\n",
    "    A = 1.858e-3\n",
    "    Dcm = A*T**(3/2)*np.sqrt((1/M1+1/M2))/(pressures*(1/2*(s1+s2))**2*omega)\n",
    "    D = Dcm / 100**2\n",
    "    R = 8.314598\n",
    "    for i in range(np.array(pressures.shape)[0]):\n",
    "        for j in range(np.array(pressures.shape)[1]):\n",
    "            for k in range(np.array(pressures.shape)[2]):\n",
    "                p = pressures[i, j, k]\n",
    "                try:\n",
    "                    assert i-1 != -1\n",
    "                    pleft = pressures[i-1, j, k]\n",
    "                    n = pleft*dV/(R*T)\n",
    "                    phileft = n/dV\n",
    "                except:\n",
    "                    phileft = np.nan\n",
    "\n",
    "                try:\n",
    "                    pright = pressures[i+1, j, k]\n",
    "                    n = pright*dv/(R*T)\n",
    "                    phiright = n/dv\n",
    "                except:\n",
    "                    phiright = np.nan\n",
    "                    \n",
    "                try:\n",
    "                    assert j-1 != -1\n",
    "                    pfront = pressures[i, j-1, k]\n",
    "                    n = pfront*dV/(R*T)\n",
    "                    phifront = n/dV\n",
    "                except:\n",
    "                    phifront = np.nan\n",
    "                try:\n",
    "                    pback = pressures[i, j+1, k]\n",
    "                    n = pback*dV/(R*T)\n",
    "                    phiback = n/dV\n",
    "                except:\n",
    "                    phiback = np.nan\n",
    "                try:\n",
    "                    assert k-1 != -1\n",
    "                    pdown = pressures[i, j, k-1]\n",
    "                    n = pdown*dV/(R*T)\n",
    "                    phidown = n/dV\n",
    "                except:\n",
    "                    phidown = np.nan\n",
    "                try:\n",
    "                    pup = pressures[i, j, k+1]\n",
    "                    n = pup*dV/(R*T)\n",
    "                    phiup = n/dV\n",
    "                except:\n",
    "                    phiup = np.nan\n",
    "                    \n",
    "                n = p*dV/(R*T)\n",
    "                phi = n/dV\n",
    "                J = -D*gradphi\n",
    "\n",
    "                gradphix = \n",
    "                gradphiy = \n",
    "                gradphiz = "
   ]
  },
  {
   "cell_type": "code",
   "execution_count": null,
   "metadata": {
    "collapsed": true
   },
   "outputs": [],
   "source": [
    "def water_diffusion(moisture, dt)\n",
    "    Dcm = .282\n",
    "    D = Dcm /100**2"
   ]
  },
  {
   "cell_type": "code",
   "execution_count": 172,
   "metadata": {
    "collapsed": true
   },
   "outputs": [],
   "source": [
    "def integrate_from_sun(space, pressures, velocities, dV=1, tmax=20,\n",
    "                       dt=1):\n",
    "    times = np.arange(0, tmax, dt)\n",
    "    pt = np.array(times, np.array(space)[0],\n",
    "                  np.array(space)[1], np.array(space)[2])\n",
    "    ps = altitude_pressures(space)\n",
    "    for t in times:\n",
    "        pt[t] = ps\n",
    "        energies = sun_e(space)\n",
    "        ps += energytopressure(energies, dV)\n",
    "        ps = calc_pchange(ps, dt)\n",
    "    return pt"
   ]
  },
  {
   "cell_type": "code",
   "execution_count": 160,
   "metadata": {
    "scrolled": true
   },
   "outputs": [
    {
     "data": {
      "image/png": "[encoded data removed]",
      "text/plain": [
       "<matplotlib.figure.Figure at 0x7ff4670e0550>"
      ]
     },
     "metadata": {},
     "output_type": "display_data"
    }
   ],
   "source": [
    "fig = plt.figure()\n",
    "ax = fig.add_subplot(111, projection=\"3d\")\n",
    "ax.plot_wireframe(np.arange(np.array(ps.shape)[0]), np.arange(np.array(ps.shape)[2]), ps[:,0,:])\n",
    "ax.set_xlabel(r\"position $x$ (m)\")\n",
    "ax.set_ylabel(r\"position $z$ (m)\")\n",
    "ax.set_zlabel(r\"pressure $P$ (Pa)\")\n",
    "fig.tight_layout()"
   ]
  },
  {
   "cell_type": "code",
   "execution_count": null,
   "metadata": {
    "collapsed": true
   },
   "outputs": [],
   "source": []
  }
 ],
 "metadata": {
  "kernelspec": {
   "display_name": "Python 3",
   "language": "python",
   "name": "python3"
  },
  "language_info": {
   "codemirror_mode": {
    "name": "ipython",
    "version": 3
   },
   "file_extension": ".py",
   "mimetype": "text/x-python",
   "name": "python",
   "nbconvert_exporter": "python",
   "pygments_lexer": "ipython3",
   "version": "3.6.3"
  }
 },
 "nbformat": 4,
 "nbformat_minor": 2
}
