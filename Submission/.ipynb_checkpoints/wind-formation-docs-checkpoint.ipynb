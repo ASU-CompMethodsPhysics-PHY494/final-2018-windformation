{
 "cells": [
  {
   "cell_type": "code",
   "execution_count": 2,
   "metadata": {},
   "outputs": [],
   "source": [
    "import numpy as np\n",
    "import pandas as pd\n",
    "import matplotlib.pyplot as plt\n",
    "%matplotlib notebook\n",
    "\n",
    "import windformation as wf"
   ]
  },
  {
   "cell_type": "code",
   "execution_count": 4,
   "metadata": {
    "collapsed": true
   },
   "outputs": [],
   "source": [
    "dv = 1 #amount of space each point represents in m**3\n",
    "dr = dv**(1/3)\n",
    "\n",
    "xmax = 20 #max x values in m\n",
    "ymax = 20 #max y values in m\n",
    "zmax = 20 #max z values in m\n",
    "\n",
    "space = np.zeros((xmax, ymax, zmax))\n",
    "space_w = np.zeros((10, 10, 100))"
   ]
  },
  {
   "cell_type": "code",
   "execution_count": 5,
   "metadata": {},
   "outputs": [],
   "source": [
    "def plot_surf_w(y_t, Dt=dr, Dx=dr, step=1, filename=None, offset=-1,\n",
    "             elevation=40, azimuth=20, cmap=plt.cm.viridis):\n",
    "    \"\"\"FROM 16_PDES, CREDIT TO OLIVER BECKSTEIN\n",
    "    Plot y_t as a 3D plot with contour plot underneath.\n",
    "    \n",
    "    Arguments\n",
    "    ---------\n",
    "    y_t : 2D array\n",
    "          displacement y(t, x)\n",
    "    filename : string or None, optional (default: None)\n",
    "          If `None` then show the figure and return the axes object.\n",
    "          If a string is given (like \"contour.png\") it will only plot \n",
    "          to the filename and close the figure but return the filename.\n",
    "    offset : float, optional (default: 20)\n",
    "          position the 2D contour plot by offset along the Z direction\n",
    "          under the minimum Z value\n",
    "    zlabel : string, optional\n",
    "          label for the Z axis and color scale bar\n",
    "    elevation : float, optional\n",
    "          choose elevation for initial viewpoint\n",
    "    azimuth : float, optional\n",
    "          chooze azimuth angle for initial viewpoint\n",
    "    \"\"\"\n",
    "     \n",
    "    t = np.arange(y_t.shape[0])\n",
    "    x = np.arange(y_t.shape[1])\n",
    "    T, X = np.meshgrid(t, x)\n",
    "    Y = y_t.T[X, T]\n",
    "    \n",
    "    fig = plt.figure()\n",
    "    ax = fig.add_subplot(111, projection='3d')\n",
    "    surf = ax.plot_surface(X*Dx, T*Dt*step, Y, cmap=cmap, rstride=1, cstride=1, alpha=1)\n",
    "    cset = ax.contourf(X*Dx, T*Dt*step, Y, 20, zdir='z', offset=offset+Y.min(), cmap=cmap)\n",
    "\n",
    "    ax.set_ylabel(r'x position $x$ (m)')\n",
    "    ax.set_xlabel(r'z position $z$ (m)')\n",
    "    ax.set_zlabel(r'Pressure $P$ (Pa)')\n",
    "    ax.set_zlim(offset + Y.min(), Y.max())\n",
    "    \n",
    "    ax.view_init(elev=elevation, azim=azimuth)\n",
    "\n",
    "    cb = fig.colorbar(surf, shrink=0.5, aspect=5)\n",
    "    cb.set_label('pressure')\n",
    "    \n",
    "    if filename:\n",
    "        fig.savefig(filename)\n",
    "        plt.close(fig)\n",
    "        return filename\n",
    "    else:\n",
    "        return ax\n",
    "\n",
    "def plot_y(y_t, Dx=dr, Dt=dr, step=1):\n",
    "    \"\"\"FROM 16_PDES, CREDIT TO OLIVER BECKSTEIN\"\"\"\n",
    "    X, Y = np.meshgrid(range(y_t.shape[0]), range(y_t.shape[1]))\n",
    "    Z = y_t.T[Y, X]\n",
    "    fig = plt.figure()\n",
    "    ax = fig.add_subplot(111, projection=\"3d\")\n",
    "    ax.plot_wireframe(Y*Dx, X*Dt*step, Z)\n",
    "    ax.set_xlabel(r'x position $x$ (m)')\n",
    "    ax.set_ylabel(r'z position $z$ (m)')\n",
    "    ax.set_zlabel(r'Pressure $P$ (Pa)')\n",
    "    fig.tight_layout()\n",
    "    return ax"
   ]
  },
  {
   "cell_type": "code",
   "execution_count": null,
   "metadata": {
    "collapsed": true
   },
   "outputs": [],
   "source": [
    "pt = integrate_from_sun(space_w, tmax=86400, dt=1200)"
   ]
  },
  {
   "cell_type": "code",
   "execution_count": null,
   "metadata": {
    "collapsed": true
   },
   "outputs": [],
   "source": [
    "ax0 = plot_surf_w(pt[0,:,5,:], filename='initial_wind_day')\n",
    "\n",
    "ax200 = plot_surf_w(pt[1,:,5,:], filename='step200_wind_day')\n",
    "\n",
    "ax400 = plot_surf_w(pt[2,:,5,:], filename='step400_wind_day')\n",
    "\n",
    "ax600 = plot_surf_w(pt[3,:,5,:], filename='step600_wind_day')\n",
    "\n",
    "ax1439 = plot_surf_w(pt[8,:,5,:], filename='end_wind_day')\n",
    "\n",
    "ax800 = plot_surf_w(pt[4,:,5,:], filename='step800_wind_day')\n",
    "\n",
    "ax1000 = plot_surf_w(pt[5,:,5,:], filename='step1000_wind_day')\n",
    "\n",
    "ax1200 = plot_surf_w(pt[6,:,5,:], filename='step1200_wind_day')\n",
    "\n",
    "ax1400 = plot_surf_w(pt[7,:,5,:], filename='step1400_wind_day')"
   ]
  },
  {
   "cell_type": "code",
   "execution_count": 6,
   "metadata": {
    "collapsed": true
   },
   "outputs": [],
   "source": [
    "def plot_surf_c(y_t, Dt=dr, Dx=dr, step=1, filename=None, offset=-1,\n",
    "             elevation=40, azimuth=20, cmap=plt.cm.magma):\n",
    "    \"\"\"FROM 16_PDES, CREDIT TO OLIVER BECKSTEIN\n",
    "    Plot y_t as a 3D plot with contour plot underneath.\n",
    "    \n",
    "    Arguments\n",
    "    ---------\n",
    "    y_t : 2D array\n",
    "          displacement y(t, x)\n",
    "    filename : string or None, optional (default: None)\n",
    "          If `None` then show the figure and return the axes object.\n",
    "          If a string is given (like \"contour.png\") it will only plot \n",
    "          to the filename and close the figure but return the filename.\n",
    "    offset : float, optional (default: 20)\n",
    "          position the 2D contour plot by offset along the Z direction\n",
    "          under the minimum Z value\n",
    "    zlabel : string, optional\n",
    "          label for the Z axis and color scale bar\n",
    "    elevation : float, optional\n",
    "          choose elevation for initial viewpoint\n",
    "    azimuth : float, optional\n",
    "          chooze azimuth angle for initial viewpoint\n",
    "    \"\"\"\n",
    "     \n",
    "    t = np.arange(y_t.shape[0])\n",
    "    x = np.arange(y_t.shape[1])\n",
    "    T, X = np.meshgrid(t, x)\n",
    "    Y = y_t.T[X, T]\n",
    "    \n",
    "    fig = plt.figure()\n",
    "    ax = fig.add_subplot(111, projection='3d')\n",
    "    surf = ax.plot_surface(X*Dx, T*Dt*step, Y, cmap=cmap, rstride=1, cstride=1, alpha=1)\n",
    "    cset = ax.contourf(X*Dx, T*Dt*step, Y, 20, zdir='z', offset=offset+Y.min(), cmap=cmap)\n",
    "\n",
    "    ax.set_ylabel(r'x position $x$ (m)')\n",
    "    ax.set_xlabel(r'z position $z$ (m)')\n",
    "    ax.set_zlabel(r'humidity $h$ (%)')\n",
    "    ax.set_zlim(offset + Y.min(), Y.max())\n",
    "    \n",
    "    ax.view_init(elev=elevation, azim=azimuth)\n",
    "\n",
    "    cb = fig.colorbar(surf, shrink=0.5, aspect=5)\n",
    "    cb.set_label('humidity')\n",
    "    \n",
    "    if filename:\n",
    "        fig.savefig(filename)\n",
    "        plt.close(fig)\n",
    "        return filename\n",
    "    else:\n",
    "        return ax"
   ]
  },
  {
   "cell_type": "code",
   "execution_count": null,
   "metadata": {
    "collapsed": true
   },
   "outputs": [],
   "source": [
    "ht = integrate_from_cloud(space, tmax=86400, dt=600)"
   ]
  },
  {
   "cell_type": "code",
   "execution_count": null,
   "metadata": {
    "collapsed": true
   },
   "outputs": [],
   "source": [
    "ax0 = plot_surf_c(ht[0,:,10,:], filename='initial_cloud_day')\n",
    "\n",
    "ax1 = plot_surf_c(ht[1,:,10,:], filename='step1_cloud_day')\n",
    "\n",
    "ax10 = plot_surf_c(ht[10,:,10,:], filename='step10_cloud_day')\n",
    "\n",
    "ax100 = plot_surf_c(ht[100,:,10,:], filename='step100_cloud_day')\n",
    "\n",
    "ax200 = plot_surf_c(ht[200,:,10,:], filename='step200_cloud_day')\n",
    "\n",
    "ax300 = plot_surf_c(ht[300,:,10,:], filename='step300_cloud_day')\n",
    "\n",
    "ax400 = plot_surf_c(ht[400,:,10,:], filename='step400_cloud_day')\n",
    "\n",
    "ax500 = plot_surf_c(ht[500,:,10,:], filename='step500_cloud_day')\n",
    "\n",
    "ax600 = plot_surf_c(ht[600,:,10,:], filename='step600_cloud_day')\n",
    "\n",
    "ax1439 = plot_surf_c(ht[1439,:,10,:], filename='end_cloud_day')\n",
    "\n",
    "ax1439 = plot_surf_c(ht[1439,:,10,:])\n",
    "\n",
    "ax700 = plot_surf_c(ht[700,:,10,:], filename='step700_cloud_day')\n",
    "\n",
    "ax800 = plot_surf_c(ht[800,:,10,:], filename='step800_cloud_day')\n",
    "\n",
    "ax900 = plot_surf_c(ht[900,:,10,:], filename='step900_cloud_day')\n",
    "\n",
    "ax1000 = plot_surf_c(ht[1000,:,10,:], filename='step1000_cloud_day')\n",
    "\n",
    "ax1100 = plot_surf_c(ht[1100,:,10,:], filename='step1100_cloud_day')\n",
    "\n",
    "ax1200 = plot_surf_c(ht[1200,:,10,:], filename='step1200_cloud_day')\n",
    "\n",
    "ax1300 = plot_surf_c(ht[1300,:,10,:], filename='step1300_cloud_day')\n",
    "\n",
    "ax1400 = plot_surf_c(ht[1400,:,10,:], filename='step1400_cloud_day')"
   ]
  }
 ],
 "metadata": {
  "kernelspec": {
   "display_name": "Python 3",
   "language": "python",
   "name": "python3"
  },
  "language_info": {
   "codemirror_mode": {
    "name": "ipython",
    "version": 3
   },
   "file_extension": ".py",
   "mimetype": "text/x-python",
   "name": "python",
   "nbconvert_exporter": "python",
   "pygments_lexer": "ipython3",
   "version": "3.6.3"
  }
 },
 "nbformat": 4,
 "nbformat_minor": 2
}
